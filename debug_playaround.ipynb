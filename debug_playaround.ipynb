{
 "cells": [
  {
   "cell_type": "code",
   "execution_count": null,
   "id": "e420fee2-0240-4834-a5d7-55c66184323c",
   "metadata": {},
   "outputs": [
    {
     "name": "stderr",
     "output_type": "stream",
     "text": [
      "/itet-stor/trachsele/net_scratch/conda_envs/ba_bugfix/lib/python3.9/site-packages/tqdm/auto.py:21: TqdmWarning: IProgress not found. Please update jupyter and ipywidgets. See https://ipywidgets.readthedocs.io/en/stable/user_install.html\n",
      "  from .autonotebook import tqdm as notebook_tqdm\n"
     ]
    }
   ],
   "source": [
    "import torch\n",
    "from torch_geometric.datasets import MovieLens1M, MovieLens100K\n",
    "\n",
    "\n",
    "# Load MovieLens 1M dataset (adjust root if needed) push test\n",
    "#dataset = MovieLens1M(root='/usr/itetnas04/data-scratch-01/trachsele/data/tl4rec/temp_pyg')\n",
    "dataset= MovieLens100K(root=\"/usr/itetnas04/data-scratch-01/trachsele/data/tl4rec/temp_pyg\")\n",
    "print(dataset[0])\n"
   ]
  },
  {
   "cell_type": "code",
   "execution_count": 1,
   "id": "21a4db48-f865-42f6-abe7-7c5145a6198b",
   "metadata": {},
   "outputs": [
    {
     "name": "stdout",
     "output_type": "stream",
     "text": [
      "User Embedding Tensor:\n",
      " tensor([[0.1000, 0.2000],\n",
      "        [0.3000, 0.4000],\n",
      "        [0.5000, 0.6000]])\n",
      "Item Embedding Tensor:\n",
      " tensor([[0.7000, 0.8000],\n",
      "        [0.9000, 1.0000],\n",
      "        [1.1000, 1.2000]])\n",
      "Head Embeddings:\n",
      " tensor([[[0.1000, 0.2000],\n",
      "         [0.1000, 0.2000],\n",
      "         [0.1000, 0.2000]],\n",
      "\n",
      "        [[0.3000, 0.4000],\n",
      "         [0.5000, 0.6000],\n",
      "         [0.1000, 0.2000]]])\n",
      "Tail Embeddings:\n",
      " tensor([[[0.7000, 0.8000],\n",
      "         [0.9000, 1.0000],\n",
      "         [1.1000, 1.2000]],\n",
      "\n",
      "        [[0.9000, 1.0000],\n",
      "         [0.9000, 1.0000],\n",
      "         [0.9000, 1.0000]]])\n",
      "size head Embeddings:\n",
      " torch.Size([2, 3, 2])\n",
      "size Tail Embeddings:\n",
      " torch.Size([2, 3, 2])\n"
     ]
    }
   ],
   "source": [
    "import torch\n",
    "\n",
    "# Parameters\n",
    "batch_size = 2\n",
    "num_negatives = 2\n",
    "num_users = 3\n",
    "num_items = 3\n",
    "dim = 2\n",
    "\n",
    "# Embeddings for users and items (3 users, 3 items, embedding dimension 2)\n",
    "user_embedding = torch.tensor([[0.1, 0.2], [0.3, 0.4], [0.5, 0.6]])\n",
    "item_embedding = torch.tensor([[0.7, 0.8], [0.9, 1.0], [1.1, 1.2]])\n",
    "\n",
    "# h_index and t_index based on the edges and negative samples\n",
    "# Each row represents a batch entry, and each column is a negative sample\n",
    "# Here, `0` and `1` are valid head indices (users), and we corrupt them by keeping valid and invalid tails\n",
    "h_index = torch.tensor([\n",
    "    [0, 0, 0],  # For first edge (0, 0, 3) with two negatives\n",
    "    [1, 2, 0]   # For second edge (1, 0, 4) with two negatives\n",
    "])\n",
    "t_index = torch.tensor([\n",
    "    [3, 4, 5],  # Original (0, 0, 3), and corrupted tails [4, 2]\n",
    "    [4, 4, 4]   # Original (1, 0, 4), and corrupted tails [5, 0]\n",
    "])\n",
    "\n",
    "# Gather head node embeddings\n",
    "# (num_nodes, dim)\n",
    "index_temp = h_index.unsqueeze(-1).expand(-1, -1, user_embedding.shape[-1])\n",
    "h_embeddings = user_embedding.unsqueeze(0).expand(batch_size,-1,-1).gather(1, h_index.unsqueeze(-1).expand(-1, -1, dim))\n",
    "\n",
    "# Adjust `t_index` to map to item IDs by subtracting `num_users`\n",
    "index_temp = (t_index - num_users).clamp(min=0)\n",
    "t_embeddings = item_embedding.unsqueeze(0).expand(batch_size,-1,-1).gather(1, index_temp.unsqueeze(-1).expand(-1, -1, dim))\n",
    "\n",
    "print(\"User Embedding Tensor:\\n\", user_embedding)\n",
    "print(\"Item Embedding Tensor:\\n\", item_embedding)\n",
    "print(\"Head Embeddings:\\n\", h_embeddings)\n",
    "print(\"Tail Embeddings:\\n\", t_embeddings)\n",
    "print(\"size head Embeddings:\\n\", h_embeddings.shape)\n",
    "print(\"size Tail Embeddings:\\n\", t_embeddings.shape)\n"
   ]
  },
  {
   "cell_type": "code",
   "execution_count": null,
   "id": "a60bc3c5-a16b-4780-8342-c6f78b21f41f",
   "metadata": {},
   "outputs": [],
   "source": [
    "data = dataset[0]\n",
    "plot_ratings_vs_time(data)\n",
    "#print (data)\n",
    "#print (data['user', 'rates', 'movie'].rating[:20])\n",
    "#print (graph[\"movie\"].x[:10,:])\n"
   ]
  },
  {
   "cell_type": "code",
   "execution_count": 9,
   "id": "2f9134d9-f7d4-4abd-82de-c51570b0aad2",
   "metadata": {},
   "outputs": [
    {
     "name": "stdout",
     "output_type": "stream",
     "text": [
      "[tensor([0., 0., 0., 0., 0.]), tensor([0., 0., 0., 0., 0., 0.])]\n",
      "tensor([0., 0., 0., 0., 0., 0., 0., 0., 0., 0., 0.])\n"
     ]
    }
   ],
   "source": [
    "import torch\n",
    "t_ranking = torch.zeros(5)\n",
    "h_ranking = torch.zeros(6)\n",
    "rankings1 = [t_ranking, h_ranking]\n",
    "print(rankings1)\n",
    "rankings2 = torch.cat([t_ranking, h_ranking], dim=0)\n",
    "print(rankings2)\n"
   ]
  },
  {
   "cell_type": "code",
   "execution_count": 8,
   "id": "130c7989-98c0-4e7e-bbe7-04481f50f302",
   "metadata": {},
   "outputs": [
    {
     "name": "stdout",
     "output_type": "stream",
     "text": [
      "tensor([[0., 0., 1., 1., 1., 0., 0., 0., 0., 0., 0., 0., 0., 0., 0., 0., 0., 0.],\n",
      "        [1., 1., 0., 0., 0., 0., 0., 0., 0., 0., 0., 0., 0., 0., 0., 1., 0., 0.],\n",
      "        [0., 0., 0., 0., 0., 0., 0., 0., 0., 0., 0., 0., 0., 0., 0., 1., 0., 0.],\n",
      "        [1., 0., 0., 0., 1., 0., 0., 1., 0., 0., 0., 0., 0., 0., 0., 0., 0., 0.],\n",
      "        [0., 0., 0., 0., 0., 1., 0., 1., 0., 0., 0., 0., 0., 0., 0., 1., 0., 0.],\n",
      "        [0., 0., 0., 0., 0., 0., 0., 1., 0., 0., 0., 0., 0., 0., 0., 0., 0., 0.],\n",
      "        [0., 0., 0., 0., 0., 0., 0., 1., 0., 0., 0., 0., 0., 0., 1., 0., 0., 0.],\n",
      "        [0., 0., 0., 1., 1., 0., 0., 1., 0., 0., 0., 0., 0., 0., 0., 0., 0., 0.],\n",
      "        [0., 0., 0., 0., 0., 0., 0., 1., 0., 0., 0., 0., 0., 0., 0., 0., 0., 0.],\n",
      "        [0., 0., 0., 0., 0., 0., 0., 1., 0., 0., 0., 0., 0., 0., 0., 0., 1., 0.]])\n"
     ]
    }
   ],
   "source": [
    "\n",
    "user_features = graph[\"user\"].x\n",
    "print (movies_features[:10])"
   ]
  },
  {
   "cell_type": "code",
   "execution_count": 7,
   "id": "0d51b938-df62-4402-bbd5-f3832f447c81",
   "metadata": {},
   "outputs": [
    {
     "name": "stdout",
     "output_type": "stream",
     "text": [
      "done\n"
     ]
    }
   ],
   "source": [
    "import optuna\n",
    "import sqlite3\n",
    "\n",
    "# Enable WAL mode\n",
    "conn = sqlite3.connect(\"optuna_hyperparam_tuning.db\")\n",
    "conn.execute(\"PRAGMA journal_mode=WAL;\")\n",
    "conn.close()\n",
    "print (\"done\")\n"
   ]
  },
  {
   "cell_type": "code",
   "execution_count": 1,
   "id": "e07a6954-48cb-48a6-9b69-4eeaee492870",
   "metadata": {},
   "outputs": [
    {
     "name": "stderr",
     "output_type": "stream",
     "text": [
      "/itet-stor/trachsele/net_scratch/conda_envs/ba_bugfix/lib/python3.9/site-packages/tqdm/auto.py:21: TqdmWarning: IProgress not found. Please update jupyter and ipywidgets. See https://ipywidgets.readthedocs.io/en/stable/user_install.html\n",
      "  from .autonotebook import tqdm as notebook_tqdm\n"
     ]
    },
    {
     "name": "stdout",
     "output_type": "stream",
     "text": [
      "Existing studies: ['my_hyperparam_study']\n"
     ]
    }
   ],
   "source": [
    "import optuna\n",
    "\n",
    "storage_url = \"sqlite:////itet-stor/trachsele/net_scratch/tl4rec/optuna_hyperparam_tuning.db\"\n",
    "#optuna.delete_study(study_name=\"my_hyperparam_study\", storage=storage_url)\n",
    "#print (\"deleted\")\n",
    "# Get all study names\n",
    "study_names = optuna.get_all_study_names(storage=storage_url)\n",
    "print(\"Existing studies:\", study_names)"
   ]
  },
  {
   "cell_type": "code",
   "execution_count": 1,
   "id": "87d2588a-3d3a-4878-8a13-a10a92d70c5c",
   "metadata": {},
   "outputs": [
    {
     "name": "stderr",
     "output_type": "stream",
     "text": [
      "/itet-stor/trachsele/net_scratch/conda_envs/ba_bugfix/lib/python3.9/site-packages/tqdm/auto.py:21: TqdmWarning: IProgress not found. Please update jupyter and ipywidgets. See https://ipywidgets.readthedocs.io/en/stable/user_install.html\n",
      "  from .autonotebook import tqdm as notebook_tqdm\n",
      "19:28:23   Random seed: 1024\n",
      "19:28:23   Config file: config/recommender/pretrain_all.yaml\n",
      "19:28:23   {'dataset': {'class': 'JointDataset',\n",
      "             'graphs': ['Amazon_Beauty'],\n",
      "             'root': '/itet-stor/trachsele/net_scratch/tl4rec/model_outputs/data'},\n",
      " 'model': {'backbone_model': {'embedding_edge': {'dropout_rate': 0.05,\n",
      "                                                 'hidden_dims': [4, 4, 4],\n",
      "                                                 'use_dropout': True,\n",
      "                                                 'use_layer_norm': True},\n",
      "                              'embedding_item': {'dropout_rate': 0.1,\n",
      "                                                 'hidden_dims': [16, 16],\n",
      "                                                 'use_dropout': False,\n",
      "                                                 'use_layer_norm': False},\n",
      "                              'embedding_user': {'dropout_rate': 0.1,\n",
      "                                                 'hidden_dims': [16, 16],\n",
      "                                                 'use_dropout': False,\n",
      "                                                 'use_layer_norm': False},\n",
      "                              'simple_model': {'aggregate_func': 'sum',\n",
      "                                               'class': 'SimpleNBFNet',\n",
      "                                               'hidden_dims': [40, 40, 40, 40],\n",
      "                                               'input_dim': 40,\n",
      "                                               'layer_norm': True,\n",
      "                                               'message_func': 'distmult',\n",
      "                                               'project_conv_emb': True,\n",
      "                                               'short_cut': True}},\n",
      "           'class': 'Gru-Ultra',\n",
      "           'edge_features': True,\n",
      "           'edge_projection': {'dropout_rate': 0.1,\n",
      "                               'hidden_dims': [4],\n",
      "                               'use_dropout': False,\n",
      "                               'use_layer_norm': True},\n",
      "           'item_projection': {'dropout_rate': 0.1,\n",
      "                               'hidden_dims': [32],\n",
      "                               'use_dropout': True,\n",
      "                               'use_layer_norm': True},\n",
      "           'node_features': False,\n",
      "           'user_projection': {'dropout_rate': 0.1,\n",
      "                               'hidden_dims': [32],\n",
      "                               'use_dropout': True,\n",
      "                               'use_layer_norm': True}},\n",
      " 'optimizer': {'backbone_conv_lr': 0.0005,\n",
      "               'backbone_mlp_edge_lr': 0.0005,\n",
      "               'backbone_mlp_item_lr': 0.0005,\n",
      "               'backbone_mlp_user_lr': 0.0005,\n",
      "               'class': 'AdamW',\n",
      "               'projection_edge_lr': 0.0001,\n",
      "               'projection_item_lr': 0.0001,\n",
      "               'projection_user_lr': 0.0001},\n",
      " 'output_dir': '/itet-stor/trachsele/net_scratch/tl4rec/model_outputs/logs',\n",
      " 'task': {'adversarial_temperature': 1,\n",
      "          'metric': ['mr', 'mrr', 'hits@1', 'hits@3', 'hits@10', 'ndcg@20'],\n",
      "          'name': 'MultiGraphPretraining',\n",
      "          'num_negative': 32,\n",
      "          'strict_negative': True},\n",
      " 'train': {'batch_per_epoch': 100,\n",
      "           'batch_size': 16,\n",
      "           'fast_test': 500,\n",
      "           'gpus': [0],\n",
      "           'log_interval': 800,\n",
      "           'num_epoch': 2,\n",
      "           'wandb': False}}\n",
      "19:28:26   JointDataset dataset\n",
      "19:28:26   #train: 293912, #valid: 50498, #test: 50498\n"
     ]
    },
    {
     "name": "stdout",
     "output_type": "stream",
     "text": [
      "We will evaluate vs 100 negatives\n",
      "discard node_features\n"
     ]
    },
    {
     "name": "stderr",
     "output_type": "stream",
     "text": [
      "19:28:27   Fast evaluation on 500 samples in validation\n",
      "19:28:27   ------------------------------\n",
      "19:28:27   Number of parameters: 0\n",
      "19:28:27   >>>>>>>>>>>>>>>>>>>>>>>>>>>>>>\n",
      "19:28:27   Epoch 0 begin\n"
     ]
    },
    {
     "name": "stdout",
     "output_type": "stream",
     "text": [
      "Load rspmm extension. This may take a while...\n"
     ]
    },
    {
     "name": "stderr",
     "output_type": "stream",
     "text": [
      "19:28:29   >>>>>>>>>>>>>>>>>>>>>>>>>>>>>>\n",
      "19:28:29   binary cross entropy: 0.70039\n",
      "19:28:49   >>>>>>>>>>>>>>>>>>>>>>>>>>>>>>\n",
      "19:28:49   Epoch 0 end\n",
      "19:28:49   ------------------------------\n",
      "19:28:49   average binary cross entropy: 0.649191\n",
      "19:28:49   Save checkpoint to model_epoch_1.pth\n",
      "19:28:50   >>>>>>>>>>>>>>>>>>>>>>>>>>>>>>\n",
      "19:28:50   Evaluate on valid\n"
     ]
    },
    {
     "ename": "UnboundLocalError",
     "evalue": "local variable 'tail_ndcgs' referenced before assignment",
     "output_type": "error",
     "traceback": [
      "\u001b[0;31m---------------------------------------------------------------------------\u001b[0m",
      "\u001b[0;31mUnboundLocalError\u001b[0m                         Traceback (most recent call last)",
      "File \u001b[0;32m/usr/itetnas04/data-scratch-01/trachsele/data/tl4rec/script/pretrain.py:609\u001b[0m\n\u001b[1;32m    597\u001b[0m \u001b[38;5;66;03m# for transductive setting, use the whole graph for filtered ranking\u001b[39;00m\n\u001b[1;32m    598\u001b[0m filtered_data \u001b[38;5;241m=\u001b[39m [\n\u001b[1;32m    599\u001b[0m     Data(\n\u001b[1;32m    600\u001b[0m         edge_index\u001b[38;5;241m=\u001b[39mtorch\u001b[38;5;241m.\u001b[39mcat([trg\u001b[38;5;241m.\u001b[39mtarget_edge_index, valg\u001b[38;5;241m.\u001b[39mtarget_edge_index, testg\u001b[38;5;241m.\u001b[39mtarget_edge_index], dim\u001b[38;5;241m=\u001b[39m\u001b[38;5;241m1\u001b[39m), \n\u001b[0;32m   (...)\u001b[0m\n\u001b[1;32m    606\u001b[0m     \u001b[38;5;28;01mfor\u001b[39;00m trg, valg, testg \u001b[38;5;129;01min\u001b[39;00m \u001b[38;5;28mzip\u001b[39m(train_data, valid_data, test_data)\n\u001b[1;32m    607\u001b[0m ]\n\u001b[0;32m--> 609\u001b[0m \u001b[43mtrain_and_validate\u001b[49m\u001b[43m(\u001b[49m\u001b[43mcfg\u001b[49m\u001b[43m,\u001b[49m\u001b[43m \u001b[49m\u001b[43mmodels\u001b[49m\u001b[43m,\u001b[49m\u001b[43m \u001b[49m\u001b[43mtrain_data\u001b[49m\u001b[43m,\u001b[49m\u001b[43m \u001b[49m\u001b[43mvalid_data\u001b[49m\u001b[43m \u001b[49m\u001b[38;5;28;43;01mif\u001b[39;49;00m\u001b[43m \u001b[49m\u001b[38;5;124;43m\"\u001b[39;49m\u001b[38;5;124;43mfast_test\u001b[39;49m\u001b[38;5;124;43m\"\u001b[39;49m\u001b[43m \u001b[49m\u001b[38;5;129;43;01mnot\u001b[39;49;00m\u001b[43m \u001b[49m\u001b[38;5;129;43;01min\u001b[39;49;00m\u001b[43m \u001b[49m\u001b[43mcfg\u001b[49m\u001b[38;5;241;43m.\u001b[39;49m\u001b[43mtrain\u001b[49m\u001b[43m \u001b[49m\u001b[38;5;28;43;01melse\u001b[39;49;00m\u001b[43m \u001b[49m\u001b[43mshort_valid\u001b[49m\u001b[43m,\u001b[49m\u001b[43m \u001b[49m\u001b[43mfiltered_data\u001b[49m\u001b[38;5;241;43m=\u001b[39;49m\u001b[43mfiltered_data\u001b[49m\u001b[43m,\u001b[49m\u001b[43m \u001b[49m\u001b[43mbatch_per_epoch\u001b[49m\u001b[38;5;241;43m=\u001b[39;49m\u001b[43mcfg\u001b[49m\u001b[38;5;241;43m.\u001b[39;49m\u001b[43mtrain\u001b[49m\u001b[38;5;241;43m.\u001b[39;49m\u001b[43mbatch_per_epoch\u001b[49m\u001b[43m)\u001b[49m\n\u001b[1;32m    610\u001b[0m \u001b[38;5;28;01mif\u001b[39;00m util\u001b[38;5;241m.\u001b[39mget_rank() \u001b[38;5;241m==\u001b[39m \u001b[38;5;241m0\u001b[39m:\n\u001b[1;32m    611\u001b[0m     logger\u001b[38;5;241m.\u001b[39mwarning(separator)\n",
      "File \u001b[0;32m/usr/itetnas04/data-scratch-01/trachsele/data/tl4rec/script/pretrain.py:216\u001b[0m, in \u001b[0;36mtrain_and_validate\u001b[0;34m(cfg, models, train_data, valid_data, filtered_data, batch_per_epoch)\u001b[0m\n\u001b[1;32m    214\u001b[0m     logger\u001b[38;5;241m.\u001b[39mwarning(separator)\n\u001b[1;32m    215\u001b[0m     logger\u001b[38;5;241m.\u001b[39mwarning(\u001b[38;5;124m\"\u001b[39m\u001b[38;5;124mEvaluate on valid\u001b[39m\u001b[38;5;124m\"\u001b[39m)\n\u001b[0;32m--> 216\u001b[0m result \u001b[38;5;241m=\u001b[39m \u001b[43mtest\u001b[49m\u001b[43m(\u001b[49m\u001b[43mcfg\u001b[49m\u001b[43m,\u001b[49m\u001b[43m \u001b[49m\u001b[43mmodels\u001b[49m\u001b[43m,\u001b[49m\u001b[43m \u001b[49m\u001b[43mvalid_data\u001b[49m\u001b[43m,\u001b[49m\u001b[43m \u001b[49m\u001b[43mfiltered_data\u001b[49m\u001b[38;5;241;43m=\u001b[39;49m\u001b[43mfiltered_data\u001b[49m\u001b[43m,\u001b[49m\u001b[43m \u001b[49m\u001b[43mcontext\u001b[49m\u001b[43m \u001b[49m\u001b[38;5;241;43m=\u001b[39;49m\u001b[43m \u001b[49m\u001b[38;5;241;43m0\u001b[39;49m\u001b[43m)\u001b[49m\n\u001b[1;32m    217\u001b[0m \u001b[38;5;28;01mif\u001b[39;00m result \u001b[38;5;241m>\u001b[39m best_result:\n\u001b[1;32m    218\u001b[0m     best_result \u001b[38;5;241m=\u001b[39m result\n",
      "File \u001b[0;32m/itet-stor/trachsele/net_scratch/conda_envs/ba_bugfix/lib/python3.9/site-packages/torch/utils/_contextlib.py:115\u001b[0m, in \u001b[0;36mcontext_decorator.<locals>.decorate_context\u001b[0;34m(*args, **kwargs)\u001b[0m\n\u001b[1;32m    112\u001b[0m \u001b[38;5;129m@functools\u001b[39m\u001b[38;5;241m.\u001b[39mwraps(func)\n\u001b[1;32m    113\u001b[0m \u001b[38;5;28;01mdef\u001b[39;00m \u001b[38;5;21mdecorate_context\u001b[39m(\u001b[38;5;241m*\u001b[39margs, \u001b[38;5;241m*\u001b[39m\u001b[38;5;241m*\u001b[39mkwargs):\n\u001b[1;32m    114\u001b[0m     \u001b[38;5;28;01mwith\u001b[39;00m ctx_factory():\n\u001b[0;32m--> 115\u001b[0m         \u001b[38;5;28;01mreturn\u001b[39;00m \u001b[43mfunc\u001b[49m\u001b[43m(\u001b[49m\u001b[38;5;241;43m*\u001b[39;49m\u001b[43margs\u001b[49m\u001b[43m,\u001b[49m\u001b[43m \u001b[49m\u001b[38;5;241;43m*\u001b[39;49m\u001b[38;5;241;43m*\u001b[39;49m\u001b[43mkwargs\u001b[49m\u001b[43m)\u001b[49m\n",
      "File \u001b[0;32m/usr/itetnas04/data-scratch-01/trachsele/data/tl4rec/script/pretrain.py:410\u001b[0m, in \u001b[0;36mtest\u001b[0;34m(cfg, models, test_data, filtered_data, context, nr_eval_negs)\u001b[0m\n\u001b[1;32m    408\u001b[0m     h_ndcg \u001b[38;5;241m=\u001b[39m tasks\u001b[38;5;241m.\u001b[39mcompute_ndcg_at_k(h_pred, h_relevance, k)\n\u001b[1;32m    409\u001b[0m     ndcgs \u001b[38;5;241m+\u001b[39m\u001b[38;5;241m=\u001b[39m [t_ndcg, h_ndcg]\n\u001b[0;32m--> 410\u001b[0m     tail_ndcgs \u001b[38;5;241m+\u001b[39m\u001b[38;5;241m=\u001b[39m  [t_ndcg]\n\u001b[1;32m    413\u001b[0m \u001b[38;5;28;01mif\u001b[39;00m filtered_data \u001b[38;5;129;01mis\u001b[39;00m \u001b[38;5;28;01mNone\u001b[39;00m:\n\u001b[1;32m    414\u001b[0m     t_mask, h_mask \u001b[38;5;241m=\u001b[39m tasks\u001b[38;5;241m.\u001b[39mstrict_negative_mask(test_graph, batch)\n",
      "\u001b[0;31mUnboundLocalError\u001b[0m: local variable 'tail_ndcgs' referenced before assignment"
     ]
    }
   ],
   "source": [
    "%run script/pretrain.py -c config/recommender/pretrain_all.yaml --gpus [0]"
   ]
  },
  {
   "cell_type": "code",
   "execution_count": null,
   "id": "acd6aac0-77b8-4bbe-910c-f41567b4d7f6",
   "metadata": {},
   "outputs": [
    {
     "name": "stderr",
     "output_type": "stream",
     "text": [
      "/itet-stor/trachsele/net_scratch/conda_envs/ba_bugfix/lib/python3.9/site-packages/tqdm/auto.py:21: TqdmWarning: IProgress not found. Please update jupyter and ipywidgets. See https://ipywidgets.readthedocs.io/en/stable/user_install.html\n",
      "  from .autonotebook import tqdm as notebook_tqdm\n",
      "19:42:47   Random seed: 1024\n",
      "19:42:47   Config file: config/recommender/notebook_cfg.yaml\n",
      "19:42:47   {'checkpoint': '/itet-stor/trachsele/net_scratch/tl4rec/ckpts/Beauty_Games_4_40_proj.pth',\n",
      " 'dataset': {'class': 'LastFM',\n",
      "             'root': '/itet-stor/trachsele/net_scratch/tl4rec/model_outputs/data'},\n",
      " 'model': {'backbone_model': {'embedding_edge': {'dropout_rate': 0.2,\n",
      "                                                 'hidden_dims': [4, 4, 4],\n",
      "                                                 'use_dropout': True,\n",
      "                                                 'use_layer_norm': True},\n",
      "                              'embedding_item': {'dropout_rate': 0.1,\n",
      "                                                 'hidden_dims': [16, 16],\n",
      "                                                 'use_dropout': False,\n",
      "                                                 'use_layer_norm': False},\n",
      "                              'embedding_user': {'dropout_rate': 0.1,\n",
      "                                                 'hidden_dims': [16, 16],\n",
      "                                                 'use_dropout': False,\n",
      "                                                 'use_layer_norm': False},\n",
      "                              'simple_model': {'aggregate_func': 'sum',\n",
      "                                               'class': 'SimpleNBFNet',\n",
      "                                               'hidden_dims': [40, 40, 40, 40],\n",
      "                                               'input_dim': 40,\n",
      "                                               'layer_norm': True,\n",
      "                                               'message_func': 'distmult',\n",
      "                                               'project_conv_emb': True,\n",
      "                                               'short_cut': True}},\n",
      "           'class': 'Gru-Ultra',\n",
      "           'edge_features': True,\n",
      "           'edge_projection': {'dropout_rate': 0.1,\n",
      "                               'hidden_dims': [4],\n",
      "                               'use_dropout': True,\n",
      "                               'use_layer_norm': True},\n",
      "           'item_projection': {'dropout_rate': 0.1,\n",
      "                               'hidden_dims': [32],\n",
      "                               'use_dropout': True,\n",
      "                               'use_layer_norm': True},\n",
      "           'node_features': False,\n",
      "           'user_projection': {'dropout_rate': 0.1,\n",
      "                               'hidden_dims': [32],\n",
      "                               'use_dropout': True,\n",
      "                               'use_layer_norm': False}},\n",
      " 'optimizer': {'class': 'AdamW', 'lr': 0.005},\n",
      " 'output_dir': '/itet-stor/trachsele/net_scratch/tl4rec/model_outputs/logs',\n",
      " 'task': {'adversarial_temperature': 0,\n",
      "          'metric': ['mr', 'mrr', 'hits@1', 'hits@3', 'hits@10', 'ndcg@20'],\n",
      "          'name': 'TransductiveInference',\n",
      "          'num_negative': 8,\n",
      "          'strict_negative': True},\n",
      " 'train': {'batch_per_epoch': 10000,\n",
      "           'batch_size': 8,\n",
      "           'fine_tuning': {'num_epoch_proj': 0},\n",
      "           'gpus': [0],\n",
      "           'gradient_clip': False,\n",
      "           'init_linear_weights': True,\n",
      "           'log_interval': 100,\n",
      "           'loss': 'bce',\n",
      "           'num_epoch': 1,\n",
      "           'num_evals': 10,\n",
      "           'target_metric': 'ndcg@20',\n",
      "           'test_batch_size': 8,\n",
      "           'wandb': False}}\n",
      "19:42:47   LastFM dataset\n",
      "19:42:47   #train: 39721, #valid: 10667, #test: 12596\n",
      "19:42:47   ------------------------------\n",
      "19:42:47   Number of parameters: 53941\n",
      "19:42:47   >>>>>>>>>>>>>>>>>>>>>>>>>>>>>>\n",
      "19:42:47   Epoch 0 begin\n"
     ]
    },
    {
     "name": "stdout",
     "output_type": "stream",
     "text": [
      "We will evaluate vs 1000 negatives\n",
      "bpe 9930.0\n",
      "discarded user_features\n",
      "edge_attr.shape = torch.Size([79442, 1])\n",
      "freeze my backbone\n",
      "unfreeze my backbone\n",
      "Load rspmm extension. This may take a while...\n"
     ]
    },
    {
     "name": "stderr",
     "output_type": "stream",
     "text": [
      "19:42:48   >>>>>>>>>>>>>>>>>>>>>>>>>>>>>>\n",
      "19:42:48   binary cross entropy: 0.691503\n",
      "19:42:48   >>>>>>>>>>>>>>>>>>>>>>>>>>>>>>\n",
      "19:42:48   Epoch 0 end\n",
      "19:42:48   ------------------------------\n",
      "19:42:48   average loss: 1.10721\n",
      "19:42:48   Save checkpoint to model_epoch_1.pth\n",
      "19:42:48   >>>>>>>>>>>>>>>>>>>>>>>>>>>>>>\n",
      "19:42:48   Evaluate on valid\n",
      "19:43:10   mr: 23.6892\n",
      "19:43:10   mrr: 0.24388\n",
      "19:43:10   hits@1: 0.143246\n",
      "19:43:10   hits@3: 0.252836\n",
      "19:43:10   hits@10: 0.455705\n",
      "19:43:10   ndcg@20: 0.31544\n",
      "19:43:10   Load checkpoint from model_epoch_1.pth\n",
      "19:43:10   Save final_ckpt to /itet-stor/trachsele/net_scratch/tl4rec/ckpts/pretrain/LastFM.pth\n",
      "19:43:10   >>>>>>>>>>>>>>>>>>>>>>>>>>>>>>\n",
      "19:43:10   Evaluate on valid\n",
      "19:43:40   mr: 233.527\n",
      "19:43:40   mrr: 0.0966322\n",
      "19:43:40   hits@1: 0.0599044\n",
      "19:43:40   hits@3: 0.0959032\n",
      "19:43:40   hits@10: 0.153558\n",
      "19:43:40   ndcg@20: 0.202764\n",
      "19:43:40   >>>>>>>>>>>>>>>>>>>>>>>>>>>>>>\n",
      "19:43:40   Evaluate on test\n"
     ]
    }
   ],
   "source": [
    "%run script/run.py -c config/recommender/notebook_cfg.yaml --dataset LastFM --epochs 1 --bpe 10000 --gpus \"[0]\" --ckpt /itet-stor/trachsele/net_scratch/tl4rec/ckpts/Beauty_Games_4_40_proj.pth"
   ]
  },
  {
   "cell_type": "code",
   "execution_count": null,
   "id": "667960bc-c845-42a2-b821-68afbfd13555",
   "metadata": {},
   "outputs": [],
   "source": [
    "%run script/run.py -c config/recommender/notebook_cfg.yaml --dataset Yelp18 --epochs 2 --bpe 20000 --gpus \"[0]\" --ckpt /itet-stor/trachsele/net_scratch/tl4rec/ckpts/Beauty_Games_4_40_proj.pth"
   ]
  },
  {
   "cell_type": "code",
   "execution_count": null,
   "id": "6700fa38-a07d-4f5a-b665-c709694fb6dd",
   "metadata": {},
   "outputs": [
    {
     "name": "stderr",
     "output_type": "stream",
     "text": [
      "/itet-stor/trachsele/net_scratch/conda_envs/ba_bugfix/lib/python3.9/site-packages/tqdm/auto.py:21: TqdmWarning: IProgress not found. Please update jupyter and ipywidgets. See https://ipywidgets.readthedocs.io/en/stable/user_install.html\n",
      "  from .autonotebook import tqdm as notebook_tqdm\n",
      "15:26:37   Random seed: 1024\n",
      "15:26:37   Config file: config/recommender/notebook_cfg.yaml\n",
      "15:26:37   {'checkpoint': None,\n",
      " 'dataset': {'class': 'Ml1m',\n",
      "             'root': '/itet-stor/trachsele/net_scratch/tl4rec/model_outputs/data'},\n",
      " 'model': {'backbone_model': {'embedding_edge': {'dropout_rate': 0.2,\n",
      "                                                 'hidden_dims': [4, 4, 4],\n",
      "                                                 'use_dropout': True,\n",
      "                                                 'use_layer_norm': True},\n",
      "                              'embedding_item': {'dropout_rate': 0.1,\n",
      "                                                 'hidden_dims': [16, 16],\n",
      "                                                 'use_dropout': False,\n",
      "                                                 'use_layer_norm': False},\n",
      "                              'embedding_user': {'dropout_rate': 0.1,\n",
      "                                                 'hidden_dims': [16, 16],\n",
      "                                                 'use_dropout': False,\n",
      "                                                 'use_layer_norm': False},\n",
      "                              'simple_model': {'aggregate_func': 'sum',\n",
      "                                               'class': 'SimpleNBFNet',\n",
      "                                               'hidden_dims': [40, 40, 40, 40],\n",
      "                                               'input_dim': 40,\n",
      "                                               'layer_norm': True,\n",
      "                                               'message_func': 'distmult',\n",
      "                                               'project_conv_emb': True,\n",
      "                                               'short_cut': True}},\n",
      "           'class': 'Gru-Ultra',\n",
      "           'edge_features': True,\n",
      "           'edge_projection': {'dropout_rate': 0.1,\n",
      "                               'hidden_dims': [4],\n",
      "                               'use_dropout': True,\n",
      "                               'use_layer_norm': True},\n",
      "           'item_projection': {'dropout_rate': 0.1,\n",
      "                               'hidden_dims': [32],\n",
      "                               'use_dropout': True,\n",
      "                               'use_layer_norm': True},\n",
      "           'node_features': False,\n",
      "           'user_projection': {'dropout_rate': 0.1,\n",
      "                               'hidden_dims': [32],\n",
      "                               'use_dropout': True,\n",
      "                               'use_layer_norm': False}},\n",
      " 'optimizer': {'class': 'AdamW', 'lr': 0.005},\n",
      " 'output_dir': '/itet-stor/trachsele/net_scratch/tl4rec/model_outputs/logs',\n",
      " 'task': {'adversarial_temperature': 0,\n",
      "          'metric': ['mr', 'mrr', 'hits@1', 'hits@3', 'hits@10', 'ndcg@20'],\n",
      "          'name': 'TransductiveInference',\n",
      "          'num_negative': 2,\n",
      "          'strict_negative': True},\n",
      " 'train': {'batch_per_epoch': 10,\n",
      "           'batch_size': 4,\n",
      "           'fine_tuning': {'num_epoch_proj': 0},\n",
      "           'gpus': [0],\n",
      "           'gradient_clip': False,\n",
      "           'init_linear_weights': True,\n",
      "           'log_interval': 100,\n",
      "           'loss': 'bce',\n",
      "           'num_epoch': 1,\n",
      "           'num_evals': 10,\n",
      "           'target_metric': 'ndcg@20',\n",
      "           'test_batch_size': 8,\n",
      "           'wandb': False}}\n",
      "Processing...\n"
     ]
    },
    {
     "name": "stdout",
     "output_type": "stream",
     "text": [
      "Hi we are in the process_df method.\n",
      "This is the shape of the original df (798832, 4)\n",
      "This is the shape after we dropped cols (798832, 2)\n",
      "Number of null rows: 0\n",
      "Feature tensor shape(before constant_col_detection): torch.Size([798832, 2])\n",
      "final Feature tensor shape: torch.Size([798832, 2])\n",
      "process_df was sucessful\n",
      "Hi we are in the process_df method.\n",
      "This is the shape of the original df (199707, 4)\n",
      "This is the shape after we dropped cols (199707, 2)\n",
      "Number of null rows: 0\n",
      "Feature tensor shape(before constant_col_detection): torch.Size([199707, 2])\n",
      "final Feature tensor shape: torch.Size([199707, 2])\n",
      "process_df was sucessful\n",
      "Graph validation passed!\n",
      "Graph validation passed!\n",
      "Graph validation passed!\n",
      "Graph looks good!\n"
     ]
    },
    {
     "name": "stderr",
     "output_type": "stream",
     "text": [
      "Done!\n",
      "15:26:47   Ml1m dataset\n",
      "15:26:47   #train: 637734, #valid: 161098, #test: 199707\n"
     ]
    },
    {
     "name": "stdout",
     "output_type": "stream",
     "text": [
      "discarded user_features\n",
      "edge_attr.shape = torch.Size([1275468, 2])\n"
     ]
    },
    {
     "name": "stderr",
     "output_type": "stream",
     "text": [
      "15:26:47   ------------------------------\n",
      "15:26:47   Number of parameters: 53945\n",
      "15:26:47   >>>>>>>>>>>>>>>>>>>>>>>>>>>>>>\n",
      "15:26:47   Epoch 0 begin\n"
     ]
    },
    {
     "name": "stdout",
     "output_type": "stream",
     "text": [
      "freeze my backbone\n",
      "unfreeze my backbone\n",
      "Load rspmm extension. This may take a while...\n"
     ]
    },
    {
     "name": "stderr",
     "output_type": "stream",
     "text": [
      "15:26:49   >>>>>>>>>>>>>>>>>>>>>>>>>>>>>>\n",
      "15:26:49   binary cross entropy: 0.694133\n",
      "15:26:49   >>>>>>>>>>>>>>>>>>>>>>>>>>>>>>\n",
      "15:26:49   Epoch 0 end\n",
      "15:26:49   ------------------------------\n",
      "15:26:49   average loss: 1.53648\n",
      "15:26:49   Save checkpoint to model_epoch_1.pth\n",
      "15:26:50   >>>>>>>>>>>>>>>>>>>>>>>>>>>>>>\n",
      "15:26:50   Evaluate on valid\n"
     ]
    }
   ],
   "source": [
    "%run script/run.py -c config/recommender/notebook_cfg.yaml --dataset Epinions --epochs 1 --bpe 10 --gpus \"[0]\" --ckpt null"
   ]
  },
  {
   "cell_type": "code",
   "execution_count": null,
   "id": "8a51668e-e2a1-4613-be35-3305a3e138d5",
   "metadata": {},
   "outputs": [],
   "source": [
    "import torch\n",
    "from rspmm import generalized_rspmm\n",
    "\n",
    "# Test input data\n",
    "edge_index = torch.tensor([[0, 1, 2], [1, 2, 3]], dtype=torch.long)\n",
    "edge_type = torch.tensor([0, 1, 2], dtype=torch.long)\n",
    "edge_weight = torch.tensor([1.0, 1.0, 1.0], dtype=torch.float32)\n",
    "edge_attr = torch.tensor([[0.1, 0.2], [0.3, 0.4], [0.5, 0.6]], dtype=torch.float32)  # Edge features\n",
    "relation = torch.rand(3, 4)  # Random relation features\n",
    "input_features = torch.rand(4, 4)  # Node input features\n",
    "\n",
    "# Call the function\n",
    "output = generalized_rspmm(edge_index, edge_type, edge_weight, edge_attr, relation, input_features)\n",
    "print(\"Output:\", output)\n"
   ]
  },
  {
   "cell_type": "code",
   "execution_count": 2,
   "id": "77512c9d-00a8-40e8-8f75-ec3e7993b842",
   "metadata": {},
   "outputs": [
    {
     "ename": "NameError",
     "evalue": "name 'os' is not defined",
     "output_type": "error",
     "traceback": [
      "\u001b[0;31m---------------------------------------------------------------------------\u001b[0m",
      "\u001b[0;31mNameError\u001b[0m                                 Traceback (most recent call last)",
      "Cell \u001b[0;32mIn[2], line 1\u001b[0m\n\u001b[0;32m----> 1\u001b[0m \u001b[38;5;28mprint\u001b[39m(\u001b[43mos\u001b[49m\u001b[38;5;241m.\u001b[39mgetcwd())\n\u001b[1;32m      2\u001b[0m os\u001b[38;5;241m.\u001b[39mchdir(\u001b[38;5;124m\"\u001b[39m\u001b[38;5;124m/usr/itetnas04/data-scratch-01/trachsele/data/tl4rec\u001b[39m\u001b[38;5;124m\"\u001b[39m) \n\u001b[1;32m      3\u001b[0m \u001b[38;5;28mprint\u001b[39m(os\u001b[38;5;241m.\u001b[39mgetcwd())\n",
      "\u001b[0;31mNameError\u001b[0m: name 'os' is not defined"
     ]
    }
   ],
   "source": [
    "print(os.getcwd())\n",
    "os.chdir(\"/usr/itetnas04/data-scratch-01/trachsele/data/tl4rec\") \n",
    "print(os.getcwd())"
   ]
  },
  {
   "cell_type": "code",
   "execution_count": 7,
   "id": "95f89f1e-7b75-491c-9c8d-303b939e0a88",
   "metadata": {},
   "outputs": [
    {
     "name": "stdout",
     "output_type": "stream",
     "text": [
      "Type: <class 'dict'>\n",
      "Number of entries: 287107\n",
      "Number of entries: 287107\n",
      "Key 0: (352, 60), Value: [0.0, 0.5, 0.7419354838709677, 0.2857142857142857, 0.4767123287671233, 6.25]\n",
      "Key 1: (1814, 647), Value: [0.0, 0.8333333333333334, 0.45161290322580644, 0.42857142857142855, 0.7863013698630137, 10.25]\n",
      "Key 2: (1796, 619), Value: [0.0, 0.9166666666666666, 0.3225806451612903, 0.2857142857142857, 0.8602739726027397, 11.25]\n",
      "Key 3: (1504, 173), Value: [0.0, 0.9166666666666666, 0.3225806451612903, 0.2857142857142857, 0.8602739726027397, 11.25]\n",
      "Key 4: (1504, 364), Value: [0.0, 0.9166666666666666, 0.3225806451612903, 0.2857142857142857, 0.8602739726027397, 11.25]\n",
      "Key 5: (1504, 592), Value: [0.0, 0.9166666666666666, 0.3225806451612903, 0.2857142857142857, 0.8602739726027397, 11.25]\n",
      "Key 6: (1504, 785), Value: [0.0, 0.9166666666666666, 0.3225806451612903, 0.2857142857142857, 0.8602739726027397, 11.25]\n",
      "Key 7: (1504, 797), Value: [0.0, 0.9166666666666666, 0.3225806451612903, 0.2857142857142857, 0.8602739726027397, 11.25]\n",
      "Key 8: (1504, 827), Value: [0.0, 0.9166666666666666, 0.3225806451612903, 0.2857142857142857, 0.8602739726027397, 11.25]\n",
      "Key 9: (1796, 836), Value: [0.0, 0.9166666666666666, 0.3225806451612903, 0.2857142857142857, 0.8602739726027397, 11.25]\n"
     ]
    }
   ],
   "source": [
    "import pickle\n",
    "\n",
    "\n",
    "def inspect_cxtdict(cxtdict):\n",
    "    print(\"Type:\", type(cxtdict))\n",
    "    print(\"Number of entries:\", len(cxtdict))\n",
    "    if isinstance(cxtdict, dict):\n",
    "        print(\"Number of entries:\", len(cxtdict))\n",
    "        # Print a sample of the keys and values\n",
    "        for i, key in enumerate(cxtdict.keys()):\n",
    "            print(f\"Key {i}: {key}, Value: {cxtdict[key]}\")\n",
    "            if i >= 9:  # Limit to first 10 entries\n",
    "                break\n",
    "\n",
    "\n",
    "def load_data(filename):\n",
    "    try:\n",
    "        with open(filename, \"rb\") as f:\n",
    "            x= pickle.load(f)\n",
    "    except:\n",
    "        x = []\n",
    "    return x\n",
    "    \n",
    "CXTDict = load_data('/itet-stor/trachsele/net_scratch/tl4rec/CARCA_Code_and_Data/Data/CXTDictSasRec_Games.dat')\n",
    "inspect_cxtdict(CXTDict)\n",
    "#print(CXTDict)\n",
    "#print(CXTDict[(1,49583)])\n",
    "\n"
   ]
  },
  {
   "cell_type": "code",
   "execution_count": 1,
   "id": "0c99d543-9391-44e0-90cc-917ca2c0ee8d",
   "metadata": {},
   "outputs": [
    {
     "name": "stderr",
     "output_type": "stream",
     "text": [
      "Failed to detect the name of this notebook, you can set it manually with the WANDB_NOTEBOOK_NAME environment variable to enable code saving.\n",
      "\u001b[34m\u001b[1mwandb\u001b[0m: Using wandb-core as the SDK backend. Please refer to https://wandb.me/wandb-core for more information.\n",
      "\u001b[34m\u001b[1mwandb\u001b[0m: Currently logged in as: \u001b[33mpitri\u001b[0m (\u001b[33mpitri-eth-z-rich\u001b[0m). Use \u001b[1m`wandb login --relogin`\u001b[0m to force relogin\n"
     ]
    },
    {
     "data": {
      "text/html": [
       "Tracking run with wandb version 0.18.5"
      ],
      "text/plain": [
       "<IPython.core.display.HTML object>"
      ]
     },
     "metadata": {},
     "output_type": "display_data"
    },
    {
     "data": {
      "text/html": [
       "Run data is saved locally in <code>/usr/itetnas04/data-scratch-01/trachsele/data/tl4rec/wandb/run-20241018_142125-w4bdlpsv</code>"
      ],
      "text/plain": [
       "<IPython.core.display.HTML object>"
      ]
     },
     "metadata": {},
     "output_type": "display_data"
    },
    {
     "data": {
      "text/html": [
       "Syncing run <strong><a href='https://wandb.ai/pitri-eth-z-rich/my-awesome-project/runs/w4bdlpsv' target=\"_blank\">rose-feather-1</a></strong> to <a href='https://wandb.ai/pitri-eth-z-rich/my-awesome-project' target=\"_blank\">Weights & Biases</a> (<a href='https://wandb.me/run' target=\"_blank\">docs</a>)<br/>"
      ],
      "text/plain": [
       "<IPython.core.display.HTML object>"
      ]
     },
     "metadata": {},
     "output_type": "display_data"
    },
    {
     "data": {
      "text/html": [
       " View project at <a href='https://wandb.ai/pitri-eth-z-rich/my-awesome-project' target=\"_blank\">https://wandb.ai/pitri-eth-z-rich/my-awesome-project</a>"
      ],
      "text/plain": [
       "<IPython.core.display.HTML object>"
      ]
     },
     "metadata": {},
     "output_type": "display_data"
    },
    {
     "data": {
      "text/html": [
       " View run at <a href='https://wandb.ai/pitri-eth-z-rich/my-awesome-project/runs/w4bdlpsv' target=\"_blank\">https://wandb.ai/pitri-eth-z-rich/my-awesome-project/runs/w4bdlpsv</a>"
      ],
      "text/plain": [
       "<IPython.core.display.HTML object>"
      ]
     },
     "metadata": {},
     "output_type": "display_data"
    },
    {
     "data": {
      "text/html": [
       "<style>\n",
       "    table.wandb td:nth-child(1) { padding: 0 10px; text-align: left ; width: auto;} td:nth-child(2) {text-align: left ; width: 100%}\n",
       "    .wandb-row { display: flex; flex-direction: row; flex-wrap: wrap; justify-content: flex-start; width: 100% }\n",
       "    .wandb-col { display: flex; flex-direction: column; flex-basis: 100%; flex: 1; padding: 10px; }\n",
       "    </style>\n",
       "<div class=\"wandb-row\"><div class=\"wandb-col\"><h3>Run history:</h3><br/><table class=\"wandb\"><tr><td>acc</td><td>▂▁▇▆▆▇█▇</td></tr><tr><td>loss</td><td>█▃▃▃▄▃▃▁</td></tr></table><br/></div><div class=\"wandb-col\"><h3>Run summary:</h3><br/><table class=\"wandb\"><tr><td>acc</td><td>0.83106</td></tr><tr><td>loss</td><td>0.0692</td></tr></table><br/></div></div>"
      ],
      "text/plain": [
       "<IPython.core.display.HTML object>"
      ]
     },
     "metadata": {},
     "output_type": "display_data"
    },
    {
     "data": {
      "text/html": [
       " View run <strong style=\"color:#cdcd00\">rose-feather-1</strong> at: <a href='https://wandb.ai/pitri-eth-z-rich/my-awesome-project/runs/w4bdlpsv' target=\"_blank\">https://wandb.ai/pitri-eth-z-rich/my-awesome-project/runs/w4bdlpsv</a><br/> View project at: <a href='https://wandb.ai/pitri-eth-z-rich/my-awesome-project' target=\"_blank\">https://wandb.ai/pitri-eth-z-rich/my-awesome-project</a><br/>Synced 5 W&B file(s), 0 media file(s), 0 artifact file(s) and 0 other file(s)"
      ],
      "text/plain": [
       "<IPython.core.display.HTML object>"
      ]
     },
     "metadata": {},
     "output_type": "display_data"
    },
    {
     "data": {
      "text/html": [
       "Find logs at: <code>./wandb/run-20241018_142125-w4bdlpsv/logs</code>"
      ],
      "text/plain": [
       "<IPython.core.display.HTML object>"
      ]
     },
     "metadata": {},
     "output_type": "display_data"
    }
   ],
   "source": [
    "import wandb\n",
    "import random\n",
    "\n",
    "# start a new wandb run to track this script\n",
    "wandb.init(\n",
    "    # set the wandb project where this run will be logged\n",
    "    project=\"my-awesome-project\",\n",
    "\n",
    "    # track hyperparameters and run metadata\n",
    "    config={\n",
    "    \"learning_rate\": 0.02,\n",
    "    \"architecture\": \"CNN\",\n",
    "    \"dataset\": \"CIFAR-100\",\n",
    "    \"epochs\": 10,\n",
    "    }\n",
    ")\n",
    "\n",
    "# simulate training\n",
    "epochs = 10\n",
    "offset = random.random() / 5\n",
    "for epoch in range(2, epochs):\n",
    "    acc = 1 - 2 ** -epoch - random.random() / epoch - offset\n",
    "    loss = 2 ** -epoch + random.random() / epoch + offset\n",
    "\n",
    "    # log metrics to wandb\n",
    "    wandb.log({\"acc\": acc, \"loss\": loss})\n",
    "\n",
    "# [optional] finish the wandb run, necessary in notebooks\n",
    "wandb.finish()"
   ]
  },
  {
   "cell_type": "code",
   "execution_count": null,
   "id": "dc5c8dba-5c11-46ab-872d-bf66245d1a44",
   "metadata": {},
   "outputs": [],
   "source": []
  }
 ],
 "metadata": {
  "kernelspec": {
   "display_name": "ba_bugfix",
   "language": "python",
   "name": "ba_bugfix"
  },
  "language_info": {
   "codemirror_mode": {
    "name": "ipython",
    "version": 3
   },
   "file_extension": ".py",
   "mimetype": "text/x-python",
   "name": "python",
   "nbconvert_exporter": "python",
   "pygments_lexer": "ipython3",
   "version": "3.9.20"
  }
 },
 "nbformat": 4,
 "nbformat_minor": 5
}
