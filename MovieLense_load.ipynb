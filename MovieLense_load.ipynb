{
 "cells": [
  {
   "cell_type": "code",
   "execution_count": 7,
   "id": "e420fee2-0240-4834-a5d7-55c66184323c",
   "metadata": {},
   "outputs": [
    {
     "name": "stdout",
     "output_type": "stream",
     "text": [
      "1\n"
     ]
    }
   ],
   "source": [
    "import torch\n",
    "from torch_geometric.datasets import MovieLens1M\n",
    "\n",
    "# Load MovieLens 1M dataset (adjust root if needed)\n",
    "dataset = MovieLens1M(root='/usr/itetnas04/data-scratch-01/trachsele/data/tl4rec/temp_pyg')\n",
    "print(len(dataset))\n"
   ]
  },
  {
   "cell_type": "code",
   "execution_count": 10,
   "id": "a60bc3c5-a16b-4780-8342-c6f78b21f41f",
   "metadata": {},
   "outputs": [
    {
     "name": "stdout",
     "output_type": "stream",
     "text": [
      "tensor([[   0,    0,    0,  ..., 6039, 6039, 6039],\n",
      "        [1176,  655,  902,  ...,  558, 1080, 1081]])\n"
     ]
    }
   ],
   "source": [
    "print(graph['user', 'rates', 'movie'].edge_index)\n"
   ]
  },
  {
   "cell_type": "code",
   "execution_count": 11,
   "id": "98371c13-d2c7-430d-8715-d0ca90ab48c1",
   "metadata": {},
   "outputs": [
    {
     "name": "stdout",
     "output_type": "stream",
     "text": [
      "HeteroData(\n",
      "  movie={ x=[3883, 18] },\n",
      "  user={ x=[6040, 30] },\n",
      "  (user, rates, movie)={\n",
      "    edge_index=[2, 1000209],\n",
      "    rating=[1000209],\n",
      "    time=[1000209],\n",
      "  },\n",
      "  (movie, rated_by, user)={\n",
      "    edge_index=[2, 1000209],\n",
      "    rating=[1000209],\n",
      "    time=[1000209],\n",
      "  }\n",
      ")\n"
     ]
    }
   ],
   "source": [
    "print(graph)"
   ]
  },
  {
   "cell_type": "code",
   "execution_count": 6,
   "id": "c6011234-88d1-4102-bc1e-12d80895e186",
   "metadata": {},
   "outputs": [],
   "source": [
    "graph = dataset[0]\n"
   ]
  },
  {
   "cell_type": "code",
   "execution_count": 20,
   "id": "56fd6e07-ceb2-42fb-83b9-2e8d939d5da5",
   "metadata": {},
   "outputs": [
    {
     "name": "stdout",
     "output_type": "stream",
     "text": [
      "[(0, 0, 1176), (0, 0, 655), (0, 0, 902), (0, 0, 3339), (0, 0, 2286), (0, 0, 1179), (0, 0, 1267), (0, 0, 2735), (0, 0, 590), (0, 0, 907)]\n"
     ]
    }
   ],
   "source": [
    "#reading the edges\n",
    "edges = graph['user', 'rates', 'movie'].edge_index\n",
    "\n",
    "triplets = []\n",
    "for i in range(edges.size(1)):\n",
    "    u, v = edges[:, i]  # Get the user and movie node index\n",
    "    triplets.append((u.item(),0, v.item()))\n",
    "\n",
    "print(triplets[:10])\n"
   ]
  },
  {
   "cell_type": "code",
   "execution_count": 22,
   "id": "add007f2-af90-4f14-ab17-71747cd0d79b",
   "metadata": {},
   "outputs": [
    {
     "name": "stdout",
     "output_type": "stream",
     "text": [
      "done\n"
     ]
    }
   ],
   "source": [
    "import random\n",
    "\n",
    "random.shuffle(triplets)\n",
    "num_train = int(0.8 * len(triplets))\n",
    "num_val = int(0.1 * len(triplets))\n",
    "\n",
    "train_triplets = triplets[:num_train]\n",
    "val_triplets = triplets[num_train:num_train + num_val]\n",
    "test_triplets = triplets[num_train + num_val:]\n",
    "\n",
    "\n",
    "# Save them into separate files\n",
    "def save_triplets(filename, triplets):\n",
    "    with open(filename, \"w\") as f:\n",
    "        for u, v, e in triplets:\n",
    "            f.write(f\"{u}\\t{v}\\t{e}\\n\")\n",
    "\n",
    "save_triplets(\"train.txt\", train_triplets)\n",
    "save_triplets(\"valid.txt\", val_triplets)\n",
    "save_triplets(\"test.txt\", test_triplets)\n",
    "print (\"done\")\n"
   ]
  },
  {
   "cell_type": "code",
   "execution_count": null,
   "id": "0d51b938-df62-4402-bbd5-f3832f447c81",
   "metadata": {},
   "outputs": [],
   "source": []
  }
 ],
 "metadata": {
  "kernelspec": {
   "display_name": "ba_elia_trachsel",
   "language": "python",
   "name": "ba_elia_trachsel"
  },
  "language_info": {
   "codemirror_mode": {
    "name": "ipython",
    "version": 3
   },
   "file_extension": ".py",
   "mimetype": "text/x-python",
   "name": "python",
   "nbconvert_exporter": "python",
   "pygments_lexer": "ipython3",
   "version": "3.9.20"
  }
 },
 "nbformat": 4,
 "nbformat_minor": 5
}
